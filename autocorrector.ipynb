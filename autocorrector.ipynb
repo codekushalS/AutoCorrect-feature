{
 "cells": [
  {
   "cell_type": "code",
   "execution_count": 131,
   "id": "dc890e31",
   "metadata": {},
   "outputs": [],
   "source": [
    "import nltk\n",
    "import re"
   ]
  },
  {
   "cell_type": "code",
   "execution_count": 132,
   "id": "b685fb2d",
   "metadata": {},
   "outputs": [],
   "source": [
    "w = []\n",
    "with open('cwords.txt', 'r', encoding='utf8') as f:\n",
    "    file_name_data = f.read()\n",
    "    file_name_data = file_name_data.lower()\n",
    "    w = re.findall('\\w+', file_name_data)\n",
    "\n",
    "main_set = set(w)"
   ]
  },
  {
   "cell_type": "code",
   "execution_count": 181,
   "id": "367d6d7c",
   "metadata": {},
   "outputs": [
    {
     "name": "stdout",
     "output_type": "stream",
     "text": [
      "{'scaffolding', 'screaming', 'copyright', 'tied', 'universally', 'exactly', 'tore', 'carrying', 'fruits', 'oppressed', 'alternate', 'chatter', 'standing', 'dresden', 'struggles', 'paws', 'powder', 'stunned', 'sigh', 'gentle', 'factories', 'treat', 'lay', 'dread', 'rapidly', 'trickle', 'bench', 'weakness', 'restaurants', 'waving', 'puzzled', 'end', 'fly', 'indifferently', 'seat', 'scarce', 'used', 'nemesis', 'fainted', 'existence', 'ease', 'stuffed', 'claws', 'operation', 'blinding', 'gaining', 'defect', 'unsolved', 'wonderfully', 'turned', 'built', 'paragraphs', 'torch', 'reminded', 'pglaf', 'sharpened', 'dreadful', 'pattern', 'becoming', 'shows', 'palace', 'belemnite', 'dream', 'sustained', 'proportions', 'lichenous', 'waves', 'appearing', 'hailstones', 'return', 'apartment', 'façade', 'fainting', 'windows', 'granite', 'feet', 'constitutes', 'drag', 'doorway', 'obsolete', 'nursery', 'credit', 'golden', 'proceeded', 'hotter', 'not', 'onward', 'landscape', 'calm', 'bare', 'wind', 'thickened', 'monstrous', 'lamp', 'powerful', 'gracefully', 'megatherium', 'contrivance', 'station', 'minds', 'flare', 'grown', 'draw', 'younger', 'rustling', 'sitting', 'inside', 'literatures', 'towered', 'dangers', 'apple', 'stinging', 'faintness', 'chances', 'copies', 'similar', 'school', 'surgings', 'clearly', 'modest', 'lawn', 'witness', 'passage', 'court', 'cautiously', 'bringing', 'because', 'murmured', 'looks', 'say', 'extension', 'clap', 'luxurious', 'contagious', 'original', 'owner', 'scorn', 'expounding', 'swollen', 'wont', 'fool', 'entered', 'forearms', 'degradation', 'dusk', 'blast', 'shuffling', 'specialist', 'bearings', 'engaged', 'expecting', 'tiny', 'miscellaneous', 'perfectly', 'hurry', 'determined', 'speed', 'ask', 'amidst', 'are', 'complying', 'past', 'lessening', 'contrast', 'quarters', 'statue', 'cared', 'eating', 'covering', 'trailing', 'fossilised', 'herself', 'trusting', 'or', 'prompt', 'volatile', 'v', 'imposed', 'served', 'licking', 'sensitive', 'begrimed', 'side', 'have', 'when', 'get', 'exultation', 'flat', 'shape', 'nonproprietary', 'staring', 'hearthrug', 'forgive', 'unsatisfying', 'unless', 'argument', 'darting', 'magazines', '3', 'heart', 'trademark', '_can_', 'wondered', 'secret', 'sepulture', 'parcels', 'viewing', 'openings', 'petals', 'pointed', 'bosses', 'tübingen', 'zero', 'faint', 'girlish', 'exhibits', 'subscribe', 'climbing', 'attentively', 'waste', 'fearless', 'sweeter', 'fainter', 'liverworts', 'stick', 'worn', 'indescribably', 'judged', 'addressed', 'consciousness', 'calculate', 'methods', 'tidal', 'halted', 'permission', 'unheeding', 'incandescent', 'slanting', 'intimate', 'signs', 'require', 'begotten', 'requirements', 'saw', 'altogether', 'hung', 'follow', 'fatted', 'identify', 'determines', 'hurried', 'colour', 'intervening', 'folly', 'roof', 'strength', 'sudden', 'yore', 'hooks', 'writer', 'arched', 'curve', 'destroyed', 'seventeen', 'grape', 'inequalities', 'advance', 'worse', 'explosives', 'sounds', 'conversational', 'shaken', 'plenty', 'discussing', 'summer', 'letters', 'aspect', 'fiction', 'darwin', 'vapour', 'caressed', 'luminous', 'xii', 'unsympathetic', 'favourite', 'pursued', 'lidless', 'painfully', 'lever', 'city', 'glaring', 'violence', 'uniformly', 'leading', 'doll', 'longer', 'constellations', 'leaning', 'definable', 'practical', 'sat', 'gazette_', 'ruined', 'ideal', 'metallic', 'soul', 'brass', 'sun', 'sides', 'streamer', 'reasoning', 'vaguest', 'stillness', 'contributions', 'translucent', 'gynæceum', 'aluminium', 'attachment', 'noises', 'income', 'online', 'spoke', 'master', 'slippers', 'getting', 'desperate', 'hillyer', 'possibility', 'pinkish', 'trembled', 'furnish', 'timepiece', 'iv', 'periodic', 'additions', 'mountaineering', 'overcoming', 'empty', 'ground', 'measuring', 'lit', 'strengthened', 'tinted', 'solid', 'consequence', 'press', 'pursuing', 'backs', 'huge', 'ashamed', 'whips', 'hair', 'branches', 'ignorance', 'slowest', 'intermittently', 'collection', 'mild', 'promotion', 'move', 'slipping', 'library', 'month', 'stood', 'joint', 'oh', 'backward', 'husk', 'transverse', 'safety', 'deductible', 'approaching', 'rang', 'hilt', 'chemical', 'accessible', 'sound', 'ambition', 'someone', 'leash', 'tail', 'spread', 'included', 'name', 'extent', 'natural', 'inferred', 'special', 'apparatus', 'abruptly', 'decadence', 'saltpetre', 'sullen', 'unpleasant', 'thunder', 'raving', 'though', 'committed', 'rude', 'wheel', 'smiled', 'thames', 'subsiding', 'hysterical', 'forthwith', 'anger', 'servant', 'complete', 'derivative', 'originally', 'electronic', 'flickered', 'united', 'hillocks', 'showed', 'wore', 'org', 'heap', 'date', 'inadequacy', 'wrong', 'previously', 'pleasant', 'remnant', 'movements', 'reflecting', 'be', 'bigger', 'splutter', 'adjacent', 'york', 'world', 'corporation', 'smaller', 'joined', 'exclusively', 'dotted', 'scepticism', 'champagne', 'carefully', 'needs', 'blossoms', 'impetus', 'distressed', 'passed', 'written', 'new', 'computers', 'oiled', 'footfall', 'island', 'scratched', 'temptations', 'gaudy', 'hawthorn', 'crawled', 'push', 'way', 'enemy', 'barrel', 'gesture', 'descendants', 'anticipations', 'slower', 'grief', 'desolation', 'quietly', 'edition', 'inch', 'indirectly', 'fright', 'travel', 'delighted', 'costs', 'evident', 'c', 'refrained', 'oddness', 'itself', 'drains', 'using', 'soft', 'fumbling', 'uncomfortable', 'limb', 'motion', 'filby', 'nodded', 'river', 'self', 'deepened', 'casting', 'overtaking', 'system', 'offers', 'rebounding', 'associate', 'shops', 'winged', 'disconcerted', 'glittering', 'automatic', 'taught', 'alter', 'excuse', 'procure', 'carbuncles', 'hail', 'recognition', 'depends', 'o', 'smiles', 'mere', 'jumped', 'masonry', 'finished', 'risks', 'simple', 'temper', 'whatever', 'vertical', 'carpet', 'truth', 'wine', 'beside', 'age', 'second', 'enable', 'horses', 'tongue', 'stepped', 'derelict', 'trophy', 'yonder', 'clapping', 'contained', 'please', 'brilliantly', 'focused', 'crimson', 'tonight', 'amazing', 'constituted', 'times', 'curious', 'aged', 'capable', 'mail', 'permanency', 'opportunities', 'organisation', 'buildings', 'across', 'nervously', 'activity', 'transcription', 'described', 'worker', 'hazy', 'perhaps', 'bring', 'pagoda', 'massive', 'clutched', 'twice', 'refused', 'loudly', 'speculations', 'regarding', 'dimensional', 'tenth', 'creek', 'girdled', 'living', 'make', 'supposed', 'art', 'humbug', 'lazily', 'awakened', 'anywhere', 'vaguely', 'prevented', 'shouting', 'framed', 'suddenly', 'more', 'pistol', 'crept', 'hand', 'sorts', 'organised', 'electronically', 'elbow', 'agony', 'dirt', 'arriving', 'whim', 'proved', 'secured', 'distances', 'tried', 'profile', 'wimbledon', 'longing', 'visions', 'shuddered', 'dressed', 'evidently', 'score', 'levers', 'mute', 'sign', 'roughly', 'exhilaration', 'examined', 'explanation', 'poisonous', 'detained', 'plausibility', 'eggshell', 'meat', 'growing', 'highly', 'viewed', 'beard', 'occur', 'cloud', 'ordinary', 'slight', 'pole', 'sympathetic', 'well', 'off', 'holding', 'exuberant', 'palpitating', 'lank', 'piece', 'clothed', 'means', 'model', 'droves', 'comes', 'works', 'ear', 'want', 'shook', 'suppressing', 'swam', 'reluctantly', 'hover', 'swinging', 'minded', 'cartridges', 'awry', 'senses', 'encamp', 'stories', 'disappointment', 'asleep', 'paragraph', 'below', 'troublesome', 'tears', 'web', 'remedies', 'haze', 'frail', 'broke', 'justification', 'advanced', 'canopy', 'perceive', 'dreaded', 'content', 'direction', 'heads', 'deletions', 'askew', 'purple', 'hawk', 'friendly', 'astonishment', 'unnecessary', 'dreamed', 'fluttering', 'fastness', 'insisted', 'died', 'conceive', 'late', 'demonstrative', 'band', 'pale', 'bushes', 'educational', 'quite', 'leak', 'smoked', 'ramifications', 'differentiation', 'negligence', 'hammering', 'hypertext', 'specialisation', 'immediate', 'plate', 'substitute', 'hence', 'official', 'consumptive', 'smoulder', 'imperceptible', 'sunshine', 'firmly', 'vegetarians', 'rich', 'invest', 'remarks', 'stop', 'xiii', 'certain', 'legally', 'rest', 'vii', 'mistake', 'this', 'instances', 'humour', 'survival', 'blood', 'furtively', 'archive', 'candles', 'cases', 'bars', 'started', 'fall', 'countries', 'draught', 'inarticulate', 'crystalline', 'attract', 'painful', 'swiftly', 'incredible', 'unmistakable', 'jumping', 'haves', 'cheerfully', 'hundreds', 'hardly', 'introduction', 'heel', 'gleam', 'opened', 'brightly', 'men', 'orders', 'wilderness', 'situation', 'surveyed', 'types', 'chanced', 'graceful', 'enhance', 'ghost', 'single', 'longed', 'foundation', 'evidence', 'sorely', 'distinction', 'exhausted', 'awake', 'situated', 'brown', 'sincere', 'female', 'provision', 'chose', 'frightful', 'idols', 'preoccupation', 'echoed', 'absence', 'foul', 'grass', 'somehow', 'detail', 'reminds', 'chapel', 'torment', 'indoors', 'departed', 'extravagant', 'arroused', 'conquest', 'clothes', 'east', 'need', 'woman', 'ivory', 'belief', 'steadily', 'different', 'unfamiliar', 'museum', 'inscription', 'desire', 'mineralogy', 'kissed', 'around', 'dull', 'nots', 'type', 'deepness', 'faintest', 'rill', 'raised', 'stems', 'gaps', 'hesitation', 'obscure', 'flaxen', 'txt', 'animated', 'conductors', 'possibilities', 'fresher', 'difficulty', 'skin', 'following', 'kind', 'harmless', 'isn', 'noon', 'reptilian', 'why', 'unlike', 'entirely', 'richness', 'kings', 'afield', 'caves', 'made', 'should', 'puzzling', 'dome', 'kindly', 'perfected', 'hundred', 'wells', 'lifetime', 'ones', 'camera', 'former', 'vermin', 'import', 'caverns', 'dynamite', 'explosive', 'butcher', 'smelt', 'excessive', 'tell', 'explored', 'clamber', 'rests', 'deeply', 'cushions', 'turfy', 'relieve', 'produced', 'price', 'email', 'generations', 'surprised', 'path', 'seas', 'presence', 'fingers', 'couple', 'descend', 'frenzy', 'employees', 'creature', 'innumerable', 'card', 'reverse', 'hastings', 'phœnician', 'wherewith', 'throw', 'binary', 'compensation', 'frankly', 'nodding', 'kentucky', 'carved', 'share', 'vessels', 'gleefully', 'lips', 'approval', 'ram', 'sing', 'regained', 'elect', 'shirks', 'ebooks', 'keen', 'forcing', 'liability', 'lash', 'money', 'confusing', 'fertile', 'glass', 'smears', 'sloped', 'thrust', 'weather', 'telegraph', 'trickery', 'loathed', 'shapes', 'steady', 'decoration', 'birch', 'form', 'ever', 'transparent', 'main', 'energy', 'spoken', 'smash', 'traveller', 'flags', 'saddle', 'refined', 'contemplation', 'human', 'fate', 'pay', 'exploration', 'sepia', 'third', 'eager', 'appalled', 'inventive', '30', 'financial', 'find', 'slime', 'represent', 'favoured', 'uncertainly', 'bit', 'would', 'lightning', 'tired', 'conveyance', 'ached', 'arteries', 'theory', 'its', 'narrowly', 'ruins', 'dark', 'thousand', 'colourless', 'arch', 'thirst', 'x', 'splendid', 'invalidity', 'open', 'hidden', 'prohibition', 'run', 'leaves', 'lilies', 'concavity', 'modification', 'civilising', 'under', 'rebellious', 'xv', 'overturned', 'observed', 'maternity', 'malign', 'awfully', 'beautiful', 'career', 'costume', 'louder', 'shelter', 'cold', 'flickering', 'ornamented', 'infer', 'disc', 'certainty', 'attention', 'quality', 'carnal', 'scorched', 'daylight', 'beneath', 'out', 'refuge', 'research', 'lies', 'confidence', 'leal_', 'charred', 'interruptions', 'gross', 'forbidden', 'contours', 'crystal', 'sentences', 'clue', 'www', 'differently', 'swoop', 'startling', 'wonderful', 'upset', 'themselves', 'whether', 'differentiated', 'rolling', 'terribly', 'blinking', 'attend', 'forward', 'english', 'black', 'country', 'fireplace', 'vigour', 'always', 'greyer', 'whistling', '_minus_', 'impenetrable', 'retreat', 'give', 'remains', 'misconception', 'whirl', 'mistaken', 'tiled', 'compliance', 'desiccated', 'adapted', 'profound', 'furiously', 'swim', 'abnormally', 'appalling', 'hold', 'ceiling', 'hosts', 'nervousness', 'overwhelming', 'fro', 'tickling', 'ut', 'scene', 'purposed', 'devised', 'our', 'narrow', 'stirred', 'downloading', 'sorrow', 'love', 'effected', 'legal', 'carriage', 'instant', 'encounter', 'flecked', 'unavoidably', 'shilling', 'figures', 'morning', 'watchword', 'expostulations', 'vague', 'troubled', 'anyhow', 'irreverent', 'maximum', 'renewal', 'mother', 'watched', 'staggered', 'nineteenth', 'matter', 'hairy', 'sir', 'devil', 'touching', 'merged', 'very', 'large', 'unendurable', 'clustering', 'guess', 'corrugated', 'polished', 'project', 'office', 'disgusting', 'delicious', 'carlovignan', 'unenforceability', 'obelisk', 'beings', 'complicated', 'versatility', 'clever', 'discovered', 'clearing', 'audience', 'the', 'thunderclap', 'an', 'woods', 'penetrating', 'starless', 'mysteries', 'behind', 'meek', 'examining', 'beauty', 'season', 'how', 'hasty', 'transcribe', 'questionings', 'paused', 'three', 'stranger', 'clutches', 'pointing', 'watch', 'mite', 'tiring', 'cigarette', 'pick', 'clean', 'asking', 'waterless', 'noun', 'hopelessly', 'immediately', 'located', 'butt', '4', 'puzzle', 'resolute', 'reassured', 'piteous', 'marking', 'phantasm', 'jarring', 'splendour', 'roar', 'realities', 'footnote', 'sorry', 'palpitation', 'block', 'football', 'amazement', 'apartments', 'tattered', 'abide', 'stung', 'look', 'become', 'broad', 'jest', '_that_', 'plight', 'schoolmaster', 'balloon', 'dimension', 'explicit', 'yellow', 'pushing', 'stained', 'blaze', 'somewhere', 'gone', 'shelves', 'panic', 'tire', 'dozing', 'starlike', 'hush', 'subtly', 'reel', 'persuaded', 'plainly', 'darker', 'suspect', 'workshop', 'hard', 'greasy', 'computer', 'law', 'pages', 'considered', 'lives', 'bowed', 'elude', 'agree', 'hopeless', 'gliding', 'balloons', 'surmounted', 'railways', 'resolved', 'survivals', 'voice', 'appropriate', 'sleepy', 'palaces', 'restless', 'transversely', 'website', 'before', 'frankness', 'robe', 'inspiration', 'closer', 'sharing', '1500', 'globes', 'xi', 'embraced', 'aspirations', 'culture', 'interstices', 'earthy', 'saline', 'ringing', 'panels', 'known', 'relief', 'slipped', 'serenity', 'trembling', 'breakers', 'fierce', 'vanished', 'shadows', 'faced', 'paper', 'tunnelled', 'facing', 'life', 'society', 'slope', 'blind', 'applicable', 'cursed', 'either', 'walls', 'shan', 'courage', 'check', 'putrefaction', 'battersea', 'scream', 'compressed', 'toiler', 'wing', 'remain', 'gestures', 'grimaces', 'dance', 'incomprehensible', 'during', 'descended', 'ancestors', 'patience', 'atoms', 'zip', 'selecting', 'corner', 'watching', 'resulted', 'painting', 'violently', 'motives', 'talked', 'ii', 'palps', 'nickel', 'hedges', 'peaks', 'channelled', 'making', 'danger', 'earnestness', 'psychologist', 'unreasonable', 'uncertain', 'eddies', 'specimens', 'uneven', 'accordance', 'defences', 'wings', 'couldn', 'aloud', 'expense', 'entry', 'metalwork', 'plane', 'from', 'flakes', 'today', 'resorted', 'brilliant', 'insensible', 'discontinue', 'unexpected', 'conveying', 'wear', 'pushed', 'bank', 'sport', 'was', 'than', 'appearance', 'feeding', 'avoid', 'lieu', 'hesitated', 'corroded', 'intelligent', 'figure', 'ourselves', 'coiling', 'impressed', 'sufferance', 'recover', 'energetic', 'copied', 'renamed', 'smoke', 'amazed', 'between', 'poor', 'chamber', 'unreal', 'brutes', 'flew', 'morlocks', 'german', 'perceived', 'solicitation', 'ultimate', 'level', 'devotion', 'blackness', 'dancing', 'deep', 'revolutions', 'sticks', 'advertisement', 'scars', 'going', 'runs', 'reflection', 'whiled', 'warranties', 'blinded', 'explorings', 'dozens', 'outdated', 'conclude', 'pipe', 'moderate', 'danced', 'cycle', 'him', 'sentiment', 'quack', 'above', 'dashed', 'veil', 'hid', 'great', 'sanitary', 'inkling', 'interest', 'neither', 'handles', 'rapped', 'network', 'assistance', 'aloft', 'phrase', 'security', 'souls', 'immaterial', 'excessively', 'just', 'snatched', 'slake', 'tobacco', 'brows', 'burn', 'magnificent', 'antenna', 'farther', 'portal', 'squat', 'lame', 'knee', 'utilise', 'jurassic', 'trouble', 'wrapped', 'deer', 'fractured', 'milky', 'inversion', 'breed', 'bones', 'gravitation', 'reversed', 'returns', 'difference', 'ears', 'hollowness', 'awoke', 'which', 'ahead', 'and', 'sniffed', 'apart', 'conscious', 'replacement', 'eluded', 'licensed', 'knocking', 'judgment', 'masses', 'vain', 'reaction', 'historical', 'peering', 'limited', 'ideas', 'alteration', 'water', 'architecture', 'sparrows', 'whispering', 'bodily', 'essay', 'assumption', 'wider', 'nitrates', 'richer', 'shivered', '6', 'traverse', 'elaborate', 'data', 'away', 'exist', 'pinnacles', 'clambering', 'order', 'defects', 'circumstances', 'assimilation', 'understand', 'chaps', 'theories', 'observe', '_him_', 'breaking', 'becomes', 'darkling', 'host', 'unlikelier', 'literary', 'expend', 'pupils', 'militant', 'mingled', 'inquired', 'required', 'kept', 'resumed', 'shaking', 'became', 'regarded', 'increased', 'sandbank', 'battered', 'universal', 'vi', 'aisle', 'trailed', 'conveniences', 'dreams', 'fluctuated', 'darknesses', 'like', 'that', 'downpour', 'says', 'moon', 'portions', 'given', 'happens', 'steadfastly', 'fearfully', 'sanitation', 'immense', 'updated', 'heaps', 'directions', 'use', 'interesting', 'lessons', 'planes', 'siege', 'settled', 'dwindling', 'commended', 'plausible', 'feebleness', 'footprints', 'scintillating', 'octagonal', 'stage', 'fungi', 'together', 'spending', 'anyone', 'unaided', 'fecundity', 'rocks', 'qualm', 'will', 'eye', 'ingenuity', 'defective', 'endowed', 'hours', 'egotism', 'brush', 'grate', 'reversing', 'goals', 'bewilderment', 'terrace', 'thought', 'presume', 'never', 'tricks', 'outbreaks', 'climb', 'mr', 'perplexity', 'caused', 'safe', 'ripped', 'drowning', 'hope', 'playing', 'lived', 'speaker', 'intermission', 'deadened', 'towards', 'spirit', 'take', 'stored', 'infinitely', 'tendencies', 'death', 'charges', 'directed', 'sloth', 'handle', 'gripped', 'recovery', 'think', 'curiously', 'westward', 'calculated', 'deal', 'thither', 'brow', 'haunted', 'ended', 'overpowered', 'ashes', 'columns', 'tall', 'drinking', 'poured', 'rod', 'fretted', 'refreshed', 'persistently', 'necessity', 'clad', 'box', 'places', 'dash', 'strangeness', 'queer', 'onset', 'exertion', 'flight', 'confirmed', 'differences', 'disjointed', 'failed', 'triumph', 'identification', 'loath', 'gulf', 'clutching', 'preserve', 'set', 'texture', 'thread', 'patents', 'experiment', 'fee', 'series', 'suggested', 'districts', 'scholars', 'plants', 'rail', 'ninepins', 'beckoned', 'worms', 'firewood', 'ago', 'utter', 'naturally', 'lying', 'rescue', 'hide', 'oil', 'miniatures', 'obstacle', 'contents', 'aperture', 'stepping', 'upward', 'widespread', 'indirect', 'short', 'warning', 'eyes', 'stiff', 'surrounded', 'burrows', 'close', 'eyelashes', 'remained', 'toil', 'occidental', 'doubt', 'fancied', 'futurity', 'tatters', 'hopping', 'prolonged', 'warped', 'modified', 'fossil', 'birds', 'where', 'inflammable', 'entity', 'avoidance', 'fact', 'answered', 'fitted', 'facilities', 'discord', 'scrub', 'wildly', 'unlink', 'clinging', 'processes', 'observation', 'bright', 'staircase', 'lurid', 'streaming', 'intend', 'surrender', 'alive', 'historian', 'hatched', 'angles', 'delicately', 'eastern', 'moment', 'exempt', 'strange', 'profits', 'refrain', '1887', 'vision', 'shrouded', 'donations', 'unstable', 'plucking', 'hers', 'readjustments', 'popular', 'satisfaction', 'precious', 'developed', 'determine', 'shed', 'tableful', 'back', 'fortunate', 'pallid', 'africa', 'aimlessly', 'ladder', 'tension', 'latter', 'animals', 'ventilating', 'bent', 'critical', 'futile', 'story', 'through', 'further', 'yes', 'hypertrophied', 'able', 'chill', 'coil', 'flapped', 'rested', 'sideways', 'sleep', 'jump', 'considerable', 'physical', 'study', 'thirty', 'holder', 'also', 'coat', 'corridor', 'discomfort', 'parent', 'called', 'language', 'increase', 'dials', 'federal', 'characteristic', 'exact', 'vastly', 'sharer', 'protection', 'line', 'reputations', 'aghast', 'interpretation', 'believed', 'sending', 'succeeded', 'dumb', 'armed', 'flinging', 'limping', 'brushes', 'forget', 'academic', 'reeds', 'appearances', 'includes', 'endlessly', 'reverses', 'jacket', 'held', 'impression', 'redistribution', 'unglazed', 'really', 'hall', 'production', 'f', 'perforce', 'abysses', 'drawings', 'imitated', 'remade', 'anticipation', 'male', 'miniature', 'prove', 's', 'unfinished', 'wander', 'anything', 'suffering', 'lignite', 'effort', 'vanish', 'inextinguishable', 'hundredth', 'buskins', 'mockery', 'hart', 'moved', 'thickness', 'boldly', 'passing', 'confess', 'banged', 'duty', 'rights', 'restrictions', 'health', 'inclined', 'replace', 'ours', 'rags', 'puzzles', 'recovered', 'impenetrably', 'despair', 'etiolated', 'helplessness', 'accept', 'stops', 'caught', 'inquiry', 'weary', 'show', 'silence', 'yet', 'once', 'department', 'slackened', 'changing', 'desolate', 'tin', 'smell', 'bodies', 'nauseatingly', 'saying', 'chuckle', 'specified', 'slips', 'animal', 'liable', 'wooden', 'weaker', 'ix', 'regularity', 'change', 'bubbles', 'caricature', 'sombre', 'concrete', 'figurative', 'journey', 'fairly', 'suggestion', 'sea', 'comprehending', 'persuasion', 'yards', 'smote', 'verbatim', 'hearers', 'prettiness', 'indefinable', 'apologise', 'glared', 'accelerate', 'hour', 'noiselessly', 'scramble', 'progress', 'headlong', 'errors', 'uncut', 'valves', 'nipping', 'interrupted', 'midway', 'imagining', 'twenty', 'retreated', 'fools', 'bad', 'inflicted', '_instantaneous_', 'seven', 'face', 'silvery', 'alike', 'decorated', 'overcame', 'declaration', 'cemeteries', 'laden', 'eddy', 'discriminating', '_i_', 'intrusion', 'search', 'promise', 'everywhere', 'rayless', 'enormous', 'beyond', 'filled', 'carving', 'improved', 'little', 'mile', 'reverted', 'giving', 'provincial', 'weapons', 'alone', 'publisher', 'ambush', 'rejoined', 'outcome', 'whole', 'gaunt', 'spun', 'view', 'oolitic', 'monkey', 'succeed', 'moist', 'slumbrous', 'banstead', 'convince', 'charitable', 'guns', 'correspondent', 'who', 'upstairs', 'dilapidated', 'foot', 'affection', 'nigh', 'journalist', 'relieved', 'slow', 'sheer', 'spectral', 'novelty', 'freedom', 'hateful', 'smiling', 'shone', 'poignant', 'leaked', 'mistaking', 'race', 'accessed', 'ten', 'behaved', 'vast', 'variety', '0', 'butterflies', 'lead', 'night', 'man', 'save', 'lot', 'visible', 'tunic', 'including', 'heaped', 'manœuvring', 'compilation', 'rain', 'top', 'week', 'visit', 'discussed', 'speculating', 'proofread', 'submitted', 'abundance', 'walks', 'iii', 'shop', 'impending', 'sickness', 'speculation', 'shrubs', 'afternoon', 'wrist', 'beasts', 'terrors', 'derive', 'seems', 'rustle', 'deportment', 'hectic', 'beheld', 'moreover', 'fragile', 'struck', 'grave', 'monument', 'accompany', 'dismayed', 'happened', 'curiosity', 'surprise', 'information', 'murmur', 'beast', 'wood', 'discovery', 'narrative', 'floor', 'shake', 'paraffin', 'cretaceous', 'laughing', 'concerning', 'fancy', 'inactivity', 'shafted', 'meant', 'environment', 'sunsetting', 'commercial', 'promoting', 'mayor', 'vanishing', 'cooing', 'manner', 'rise', 'maintained', 'steatite', 'half', 'obscurity', 'organism', 'received', 'diseases', 'appeals', 'creak', 'word', 'polynesian', 'noise', 'people', 'mantel', 'concerned', 'expenses', 'generation', 'bye', 'haired', 'things', 'fours', 'locations', 'cupola', 'medium', 'defend', 'sentence', 'laws', 'aristocracy', 'incomplete', 'noted', 'supposition', 'slabs', 'neighbourhood', 'first', 'inadequate', 'again', 'prodigious', 'dim', 'unavoidable', 'alternations', 'argumentative', 'hint', 'ugly', 'words', 'child', 'pork', 'wearisome', 'do', 'expeditions', 'sort', 'strain', 'premium', 'greater', 'obvious', 'servants', 'fervent', 'shock', 'middle', 'nearly', 'drawing', 'questions', 'profit', 'healed', 'passionate', 'childbearing', 'dining', 'continued', 'mrs', 'contain', 'permanent', 'misty', 'glancing', 'specimen', 'abominable', 'reference', 'donors', 'sweeping', 'mind', 'arm', 'pain', 'imitating', 'bole', 'jars', 'lump', 'ripple', 'dimensions', 'dawned', '50', 'followed', 'expectation', 'panting', 'cravings', 'rarely', 'license', 'workers', 'store', 'trouser', 'difficult', 'worst', 'studs', 'violates', 'cries', 'whose', 'harsh', 'cheeks', 'scientific', 'forming', 'bleached', 'paradise', 'duration', 'payments', 'waded', 'absorbed', 'recede', 'other', 'bleating', 'approach', 'consoled', 'weltering', 'lunch', 'solemnly', 'musing', 'were', 'twilight', 'industry', 'impeded', 'owed', 'section', 'thudding', 'blown', 'smile', 'cheerlessly', 'interminable', 'intent', 'fast', 'infirm', 'history', '596', 'awkward', 'dogs', 'nerved', 'whitened', 'question', 'childlike', 'splitting', 'welcome', 'without', '801', 'appetite', 'appear', 'curved', 'dated', 'impulse', 'assured', 'version', 'parts', 'slopes', 'subways', 'forth', 'disclaim', 'bitterness', 'strongly', 'material', 'persistent', 'leisure', 'stream', 'fresh', 'seeking', 'curtains', 'sweat', 'verification', 'moves', 'horizon', 'perfection', 'lines', 'particularly', 'probably', 'void', 'millions', 'weird', 'sliding', 'signal', 'extremely', 'degeneration', 'joy', 'lemurs', 'madness', 'rocket', 'pace', 'nothingness', 'operations', 'condition', 'gradually', 'fitfully', 'green', 'put', 'century', 'conceived', 'contract', 'noiseless', 'precision', 'confirmation', 'unsuspected', 'frantic', 'household', '2001', 'setting', 'seized', 'fizzed', 'shrinking', 'royalty', 'happy', 'funny', 'glanced', 'satisfied', 'deserted', 'opposition', 'elated', 'strove', 'stagnant', 'brontosaurus', 'fragmentary', 'running', 'receded', 'exclaimed', 'fermentation', 'chosen', 'grossly', 'starlight', 'flung', 'weak', 'here', 'loyal', 'pillars', 'duller', 'stuffy', 'punishment', 'ebb', 'eternal', 'reinforced', 'floury', 'bleeding', 'reddish', 'swaying', 'solitary', 'smoky', 'domain', 'disclaimers', 'garments', 'leave', 'guesses', 'missed', 'cultivate', 'london', 'linger', 'rules', 'communistic', 'sore', 'volunteered', 'carry', 'sandals', 'widening', 'sets', 'grunt', 'nausea', 'beat', 'indistinctly', 'accustomed', 'call', 'leant', 'badly', 'anecdote', 'greenish', 'propositions', 'central', 'connect', 'intermittent', 'bird', 'stalked', 'grindstone', 've', 'north', 'calling', 'quaintly', 'apprehension', 'battering', 'everyone', 'clear', 'alliance', 'intervals', 'virtue', 'preface', 'adventures', 'based', 'miserable', 'chequered', 'hillside', 'lichen', 'ascii', 'front', 'professor', 'light', 'astonished', 'whimper', 'awful', 'shiver', 'gates', 'moans', 'endure', 'preparations', 'opportunity', 'grip', 'reality', 'by', 'unknown', 're', 'incredulous', 'habits', 'griffins', 'mathematical', 'others', 'tables', 'pocket', 'immemorial', 'scrap', 'teeth', 'mattered', 'centre', 'contact', 'chance', 'drifting', 'flushed', 'cannibal', 'suit', 'familiar', 'murder', 'faces', 'donate', 'cause', 'playful', 'undergrounders', 'serious', 'frantically', 'clasps', 'blossom', 'genuine', 'property', 'table', 'doses', 'enjoys', 'courses', 'lost', 'deeper', 'invisible', 'climax', 'distress', 'countless', 'strings', 'trace', 'needed', 'stalks', 'fist', 'scanned', 'knife', 'array', 'beginning', 'sawn', 'moralised', 'gleaming', 'part', 'tombs', 'laughed', 'status', 'weed', 'acacias', 'gets', 'inky', 'snapped', 'flower', 'scarcely', 'interval', 'confused', 'stupor', 'now', 'distinctly', 'tribe', 'sealed', 'telling', 'wooded', 'negro', 'porcelain', 'disappear', 'circling', 'kill', 'mexican', 'barely', 'exquisite', 'trees', 'remove', 'lucid', 'threw', 'prepared', 'removal', 'effect', 'oddest', 'provided', 'humanity', 'tricked', 'shown', 'shelters', 'most', 'terrestrial', 'cleaned', 'removed', 'stayed', 'live', 'forms', 'paralyse', 'starving', 'hastily', 'amaze', 'psychology', 'shakily', 'govern', '_the', 'nebuchadnezzar', 'over', 'institution', 'friendliness', 'keenness', 'dreaming', 'family', 'edge', 'cavern', 'subterranean', 'horticulture', 'persisted', 'singular', 'avoided', 'proprietary', 'swung', 'provisions', 'sixth', 'prime', '_', 'likewise', 'ghastly', 'attained', 'strong', 'extensive', 'articulation', 'damaged', 'happily', 'fear', 'organisations', 'quartz', 'reports', '_there', 'darkness', 'eloi', 'indicating', 'margin', 'twinkle', 'interpreted', 'maintaining', 'stooped', 'sustaining', 'hull', 'freely', 'prejudice', 'crest', 'assurance', '_pall', 'occupied', 'easily', 'operating', 'wealth', 'forest', 'pillar', 'pressing', 'round', 'coal', 'contented', 'caresses', 'cover', 'educated', 'result', 'synonymous', 'pause', 'artistic', 'valley', 'stretch', 'whenever', 'owns', 'fossils', 'aside', 'disappeared', 'geometrical', 'conclusion', 'performed', 'frame', 'interrogations', 'fill', 'better', 'potentialities', 'warm', 'pursuit', 'litter', 'tramp', 'blocks', 'gashed', 'old', 'therewith', 'sense', 'estuary', 'public', 'upper', 'snail', 'theorising', 'thinner', 'till', 'draughty', 'customary', 'low', 'split', 'air', 'ceremony', 'underground', 'kicking', 'constitution', 'dust', 'whirled', 'glowed', 'philosophical', 'sightless', 'theirs', 'confusedness', 't', 'spoil', 'b', 'extreme', 'wholesome', 'grind', 'economical', 'perfect', 'frightfully', 'distance', 'xvi', 'indicated', 'improve', 'i', 'destined', 'abstract', 'blindness', 'however', 'deceived', 'tug', 'click', 'tree', 'dial', 'ere', 'deadly', 'usual', 'downstream', 'arrived', 'haggard', 'besides', 'gentleness', 'time', 'losing', 'reassure', 'absent', 'express', 'intention', 'prominently', 'limitation', 'putting', 'fence', 'rigorous', 'helpless', 'flopping', 'meal', 'elbows', 'abundant', 'points', 'anxiety', 'moaning', 'until', 'richmond', 'introspective', 'h', 'civilisation', 'conversation', 'reason', 'editions', 'important', 'key', 'boards', 'social', 'recognised', 'peel', 'attracted', 'clung', 'll', 'emotions', 'decided', 'tentative', 'structure', 'slept', 'therein', 'naming', 'crackling', 'eke', 'verdigris', 'dwelling', 'rosebery', 'groping', 'cadger', 'friend', 'moss', 'photographs', 'pathway', 'blank', 'hanged', 'noticed', 'boles', 'non', 'ruinous', 'imminent', 'stumbling', 'finish', 'limped', 'wool', 'angle', 'rearranged', 'seriously', 'lighter', 'ungainly', 'did', 'hammered', 'rather', 'evil', 'blotched', 'pumping', 'blocked', 'doubtless', 'troubles', 'chinese', '60', 'instinctively', 'rock', 'glazed', 'bullet', 'hillock', 'tolerably', 'suffocated', 'silhouetted', 'creating', 'oily', 'topic', 'starve', 'importations', 'clang', 'style', 'follows', 'railway', 'succulent', 'overworld', 'spots', 'respect', 'soil', 'sirius', 'gravities', 'convenient', 'switchback', 'build', 'performances', 'portals', 'incontinently', 'at', 'good', 'rotundity', 'tools', 'unemployed', 'dead', 'request', 'waned', 'donation', 'knuckles', 'us', 'midst', 'softness', '64', 'rotted', 'sure', 'war', 'definite', 'may', 'similarly', 'sided', 'delightful', 'outflanked', 'limits', 'filthily', 'dusty', 'sable', 'gloriously', '6221541', 'comet', 'explore', 'produce', 'retorted', 'liquid', 'colouring', 'sleight', 'insult', 'gold', 'triumphed', 'realised', 'pg', 'has', 'communism', 'blows', 'drained', 'harmony', 'napping', 'closed', 'being', 'abandoned', 'naked', 'galleries', 'cried', 'fingernail', 'tugged', 'revolution', 'seen', 'heavily', 'belonged', 'brain', 'purposeless', 'improper', 'weedless', 'door', 'tongues', 'eighteen', 'whitening', 'recalling', 'shifted', 'semblance', 'puffs', 'inevitable', 'malachite', 'burst', 'notes', 'dismal', 'burslem', 'visitor', 'witnessed', 'founded', 'dress', 'exporting', 'codes', 'economise', 'connubial', 'resting', 'wonderment', 'disease', 'occasionally', 'am', 'downward', 'workshops', 'hardship', 'references', 'changed', 'format', 'shoot', 'presented', 'edifice', 'shirk', 'doing', 'extensively', 'wondering', 'emerged', 'generally', 'assembled', 'shallow', 'fight', 'interested', 'lowered', 'chain', 'aware', 'children', 'phases', 'pensive', 'walked', 'convey', 'mystery', 'shrubby', 'wash', 'fix', 'algal', 'inactive', 'throat', 'blundered', 'inaccurate', 'conviction', 'guessed', 'rush', 'invention', 'nature', 'cottage', 'god', 'arrival', 'scarlet', 'advances', 'merely', 'course', 'wisely', 'engagement', 'indefinite', 'properly', 'cube', '_why', 'meet', 'dirty', 'seedless', 'flame', 'america', 'g', 'floated', 'verify', 'sometimes', 'd', 'sheep', 'exploring', 'reported', 'whatsoever', 'tale', 'convulsively', 'among', 'interpret', 'restraint', 'day', 'faun', 'leather', 'monsters', 'peered', 'orange', 'fuss', 'created', 'loaded', 'fade', 'conjuror', 'thirsty', 'displayed', 'printed', 'often', 'shadow', 'absurd', 'match', 'diluted', 'closely', 'precipitous', 'withdrew', 'carters', 'pane', 'suspected', 'momentary', 'yesterday', 'last', 'dozed', 'hitherto', 'pockets', 'position', 'swayed', 'traffic', 'mathematicians', 'developments', 'cunning', 'ornamental', 'mallows', 'many', 'fellow', 'verbs', 'medical', 'peculiar', 'melting', 'lasted', 'arise', 'sheet', 'hypothesis', 'washed', 'looking', 'spreads', 'fatigue', 'laughter', 'revenue', 'distrusted', 'clenched', 'sunlit', 'writing', 'curtain', 'dropping', 'skirt', 'soon', 'largely', 'controvert', 'companies', 'sphinx', 'breathing', 'restrained', 'twinkled', 'calmer', 'wandering', 'fork', 'escaped', 'receive', 'drove', 'links', 'investigations', 'groove', 'carlyle', 'allen', 'eight', 'examine', 'brief', 'eclipse', 'gradual', 'met', 'train', 'accepting', 'spellbound', 'utopian', 'smoking', 'arising', 'vividly', 'villainy', 'flowed', 'various', 'grey', 'retina', 'stumps', 'pile', 'vitality', 'flames', 'protect', 'dimness', 'could', 'keyholes', 'whisper', 'indicators', 'particular', 'intensest', 'interpolated', 'gap', 'unprotected', 'pursue', 'gift', 'forefinger', 'indemnify', 'gunpowder', 'near', 'incident', 'shining', 'robes', 'stirring', 'keep', 'blessing', 'changes', 'hear', 'creatures', 'seated', 'commerce', 'previous', 'creative', 'struggled', 'joyous', 'principles', 'lacked', 'attempt', 'involved', 'waist', 'blots', 'willing', 'ancient', 'spite', 'breathe', 'individual', 'as', 'copying', 'consequential', 'reaching', 'thin', 'warranty', 'tightly', 'experience', 'learnt', 'renewed', 'slender', 'climate', 'helpful', 'loomed', 'texts', '9', 'concluded', 'centuries', 'hiding', 'see', 'refund', 'persuading', 'ankle', 'forces', 'six', 'convert', 'lungs', 'desired', 'cheerful', 'even', 'up', 'savage', 'pity', 'merriment', 'verb', 'after', 'perpetual', 'sensations', 'oblique', 'idea', 'dwarfed', 'posted', 'useless', 'to', 'delightfully', 'bay', 'cling', 'sexes', 'overwork', 'ingenious', 'of', 'greyness', 'linked', 'existing', 'pressed', 'recognise', 'reeling', 'gibbous', 'tunnels', 'spring', '_was_', 'hum', 'cruelty', '20', 'wit', 'm', 'none', 'strictly', 'it_', 'infringement', 'anticipate', 'accordingly', 'advantage', 'clearer', 'burned', 'stare', 'realise', 'sunrise', 'chemistry', 'behaviour', 'makes', 'selective', 'machinery', 'greek', 'anachronism', 'said', 'lifetimes', 'imagine', 'fearing', 'clambered', 'for', 'mummies', 'mutual', 'threadlike', 'occurred', 'continuous', 'inhuman', 'labourer', 'glance', 'loss', 'diminution', 'brittle', 'mortal', 'preservation', 'cheerfulness', 'fishes', 'containing', 'mouth', 'hollow', 'banks', 'enough', 'minute', 'civilised', 'trousers', 'legs', 'thus', 'intellect', 'withal', 'precessional', 'solve', 'reading', 'facet', 'utilised', 'sit', 'exclamatory', 'artificial', 'choking', 'sight', 'imagined', 'daily', 'arms', 'undulating', 'assertion', 'chin', 'blundering', 'anticipated', 'altered', 'deficiency', 'young', 'fists', 'ameliorating', 'strike', 'rushed', 'climbers', 'threaded', 'paid', 'schemes', 'foolish', 'nevertheless', 'ebbed', 'appears', 'abstain', 'internal', 'finger', 'go', 'circular', 'body', 'overcrowded', 'papers', 'fire', 'beginnings', 'got', 'eagerly', 'replaced', 'flared', 'casual', 'promised', 'truncated', 'composite', 'pallor', 'slid', 'feature', 'candlesticks', 'profoundly', 'substantives', '_nil_', 'transit', 'your', 'nor', 'christmas', 'bluish', '35', 'four', 'revive', 'catastrophes', 'laid', 'arrangements', 'shattered', 'afterwards', 'bitterly', 'coloured', 'drifted', 'led', 'wading', 'frequented', 'projects', 'judge', 'glare', 'footsteps', 'turning', 'helped', 'provide', 'crustacea', 'approached', 'intermarriage', 'hopes', 'shaft', 'summit', 'cat', 'seeing', 'slumbering', 'wonder', 'fitness', 'eking', 'cut', 'filed', 'scrape', 'pitch', 'minutes', 'contributed', 'rhododendrons', 'portrait', 'relight', 'pedestal', 'action', 'fixed', 'quick', 'keenest', 'stay', 'forbidding', 'while', 'uncanny', 'meaning', 'stumble', 'deliberately', 'scattered', 'discordantly', 'broader', 'concept', 'earth', 'start', 'shaped', 'field', 'happen', 'yawned', 'lie', 'paperwork', 'waved', 'quivering', 'lustre', 'agreed', 'coral', 'drift', 'solved', 'haul', 'beautifully', 'behoves', 'brightening', 'ruin', 'satisfy', 'assume', 'logical', 'gave', 'those', 'hatchet', 'wall', 'excellent', 'remarkable', 'confusion', 'flood', 'hurts', 'leprous', 'frequent', 'on', 'size', 'checked', 'unhinged', 'although', 'puffing', 'notion', 'evolution', 'much', 'suppose', 'directly', 'kissing', 'claim', 'camphor', 'disregard', 'prettier', 'makers', 'adroitly', 'diagram', 'sufficient', 'ways', 'treasures', 'apace', 'strangely', 'into', 'deliquesced', 'credible', 'direct', 'pink', 'display', 'mysterious', 'overworlders', 'felt', 'socks', 'plain', '_three_', 'smeared', 'necessarily', 'dingy', 'shoes', 'ed', 'related', 'carried', 'redistributing', 'wintry', 'arrange', 'knees', 'initiative', 'ice', 'nose', 'rarefied', '8', 'mississippi', 'bronze', 'advancement', 'raced', 'plough', 'thanks', 'shoulders', 'burnished', 'area', 'military', 'future', 'sickly', 'small', 'enormously', 'disengaged', 'culminating', 'intonation', 'utopias', 'gnats', 'useful', 'varied', 'explosion', 'drawn', 'contrived', 'skull', 'might', 'quarter', 'days', 'dry', 'hungry', 'editor', 'lapsed', 'room', 'brighter', 'chap', 'subject', 'safer', 'drowned', 'confident', 'simon', 'appeared', 'jealousy', 'garland', 'equipment', 'manifestly', 'pattering', 'sleeves', 'bloody', 'difficulties', 'parapet', 'fond', 'slightness', 'habitual', 'friendship', 'subjugation', 'raspberry', 'fit', 'trick', 'equipped', 'arbour', 'likeness', 'remember', 'intervention', 'stir', 'waxen', 'too', 'stamped', 'piled', 'scrambled', '_this_', 'possessed', 'evidences', 'silhouette', 'cost', 'available', 'distant', 'chuckled', 'futility', 'blockhead', 'meddle', 'describes', 'it', 'remind', 'vestige', 'anemones', 'refreshing', 'notifies', 'happening', 'widest', 'page', 'tomorrow', 'remembered', 'fluctuating', 'technical', 'volunteers', 'didn', 'coming', 'ichthyosaurus', 'distributed', 'maddened', 'retained', 'possession', 'preoccupied', 'else', 'crab', 'heat', 'traditions', 'turn', 'eddying', 'wax', 'thud', 'greenery', 'tolerance', 'germ', 'so', 'obtaining', 'bells', 'planets', 'left', 'efforts', 'lameness', 'surface', 'manager', 'crowbar', 'disagreeably', 'communication', 'fringes', 'solicit', 'desires', 'me', 'lack', 'insidious', 'derived', 'imparted', 'sickening', 'cracked', 'whom', 'internally', 'realising', 'if', '_philosophical', 'records', 'ages', 'dropped', 'both', 'files', 'solution', 'broken', 'scheme', 'bits', 'cooling', 'case', 'amuse', 'substance', 'rimmed', 'all', 'complex', 'peptone', 'bar', 'mark', 'long', 'tap', 'ebony', 'accession', 'originator', 'argued', 'morlock', 'space', 'user', 'staying', 'chilled', 'spent', 'untravelled', 'spasmodic', 'mutton', 'overwhelmingly', 'impressions', 'paradox', 'describe', 'astonishing', 'disinclination', 'each', 'ring', 'crossing', 'heavens', 'jocular', 'obtain', 'neglected', 'brooded', 'unfathomable', 'won', 'gesticulated', 'my', 'nations', 'peace', 'habitat', 'mercury', 'intelligence', 'threshold', 'dismissed', 'partially', 'damages', 'still', 'blacken', 'slowness', 'had', 'amused', 'full', 'stratification', 'indian', 'co', 'applause', 'turf', 'sections', 'purpose', 'gutenberg', 'rubbed', 'trammels', 'cicerone', 'brilliancy', 'underworld', 'distinguish', 'excitements', 'fine', 'drop', 'overset', 'testified', 'mist', 'stands', 'increasing', 'ideals', 'lugged', 'singularly', 'streamed', 'clumsy', 'storm', 'partake', 'moonlit', 'sobbing', 'hurriedly', 'exclamation', 'bough', 'trying', 'vista', 'regulating', 'fled', 'remark', 'about', 'adorn', 'exists', 'representations', 'creeping', 'wrecking', 'horribly', 'rifles', 'crabs', 'memory', 'everybody', 'actually', 'traced', 'cattle', 'circuit', 'terms', 'wasted', 'alert', '501', 'best', 'such', 'molecule', 'nearer', 'stand', 'fabrics', 'preserved', 'artificially', 'gently', 'another', 'friends', 'plaything', 'evening', 'lighted', 'earnest', 'strict', 'except', 'steel', 'faded', 'afraid', 'therefore', 'trapped', 'dying', 'mace', '84116', 'having', 'hot', 'universe', 'walking', 'intense', 'within', 'providing', 'sheets', 'vibrated', 'pieces', 'emotion', 'keeping', 'ragged', 'wandered', 'flesh', 'adventure', 'mouths', 'hettie', 'admired', 'unmeaning', 'hesitating', 'inclination', 'selfishness', 'cramp', 'speak', 'disturb', 'fumbled', 'multitude', 'deceptively', 'despite', 'drew', 'west', 'charge', 'knowing', 'greyish', 'almost', 'glasses', 'overlook', 'peach', 'staple', 'obscene', 'explain', 'lights', 'own', 'dear', 'elusive', 'transitory', 'down', 'laboratory', 'possibly', 'machine', 'anew', 'plates', 'five', 'game', 'resemblance', 'wrought', 'failure', 'turns', 'addresses', 'towers', 'withered', 'adjoining', 'speaking', 'optics', 'attitude', 'demand', 'foliage', 'weight', 'turfed', 'stared', 'preternaturally', 'replenishing', 'length', 'glow', 'occupations', 'lemur', 'affair', 'takes', 'any', 'opening', 'disappears', 'travelled', 'laugh', 'associated', 'tight', 'inaccessible', 'rent', 'surely', 'framework', 'grasp', 'person', 'anecdotes', 'accident', 'two', 'thereby', 'u', 'murmuring', 'discontinuous', 'flaming', 'greatest', 'hands', 'eat', 'incidental', 'lifted', 'chair', 'meeting', 'mall', 'sensitiveness', 'lower', 'apparently', 'freshening', 'unalterable', 'retreating', 'basis', 'leapt', 'no', 'spreading', 'pistols', 'forgotten', 'agape', 'granted', 'flying', 'distributor', 'bottom', 'brother', 'perspective', 'lichens', 'gusts', 'instinct', 'expanse', 'least', 'decay', 'upperworld', 'consider', 'understood', 'furnishing', 'threatening', 'reached', 'stolid', 'survived', 'balanced', 'number', 'forty', 'gusty', 'fifteen', 'instance', 'killing', 'formats', 'grappled', 'indeed', 'extinction', 'placed', 'harshly', 'enemies', 'since', 'ridicule', 'hermetically', 'swell', 'larger', 'wan', 'stoutly', 'arrears', 'padding', 'straight', 'decadent', '5', 'mental', 'amid', 'far', 'strides', 'swimmer', 'abominations', 'expression', 'parallel', 'receiving', 'petulance', 'years', 'biological', 'amorous', 'destroy', 'feeling', 'secure', 'seconds', 'their', 'flourish', 'science', 'agent', 'glimpse', 'mission', 'indemnity', 'doors', 'proceed', 'pitiless', 'admitted', 'waiting', 'intimation', 'same', 'problem', 'bearing', 'marks', 'base', 'pulsated', 'asked', 'represents', 'hoax', 'simply', 'daylit', 'tangle', 'feverish', 'horrible', 'shadowy', 'footing', 'aforementioned', 'refinement', 'grotesque', 'disappointed', 'preventive', 'yielding', 'sconces', 'e', 'contrive', 'talk', 'electric', 'cigar', 'sky', 'necessary', 'protected', 'decayed', 'vanilla', 'these', 'apparition', 'extinct', 'staved', 'seemed', 'carnivorous', 'horizontal', 'covered', 'break', 'tunnellings', 'somewhat', 'unaccountable', 'remarked', 'sharp', 'twinkling', 'practically', 'receipt', 'lightening', 'apertures', 'creation', 'chiefly', 'marrow', 'holds', 'sunset', 'abstractions', 'fascination', 'lean', 'irresistible', 'print', 'glided', 'mastered', 'object', 'illuminated', 'complacency', 'next', 'character', 'ein', 'preyed', 'spider', 'rare', 'keenly', 'unpolished', 'instinctive', 'presently', 'remaining', 'support', 'amusement', 'insecurity', 'screws', 'nail', 'merchantability', 'footsore', 'rotting', 'indistinct', 'delight', 'damned', 'heir', 'physically', 'weeping', 'influence', 'lake', 'fears', 'detested', 'gratefully', 'sole', 'burning', 'marked', 'repugnance', 'foliated', 'traces', 'observing', 'sees', 'wild', 'point', 'hindrances', 'bulks', 'rudimentary', 'slightest', 'tax', 'a', 'frames', 'belt', 'eureka', 'begun', 'one', 'implied', 'hills', 'certainly', 'voices', 'pull', 'potter', 'simplicity', 'named', 'crowded', 'clock', 'checks', 'chins', 'misery', 'palæontological', 'hadn', 'urchin', 'range', 'counsel', 'indicative', 'capacity', 'ghostly', 'showing', 'laying', 'shudder', 'inevitably', '_now_', 'usually', 'employee', 'hundredths', 'hated', 'metal', 'practicable', 'peaked', 'telephone', 'oppression', 'cramped', 'absolute', 'eyeballs', 'clatter', 'wasting', 'powdery', 'geometry', 'suggestions', 'comply', 'travelling', 'housed', 'dined', 'multiply', 'breeze', 'sloping', 'signing', 'closing', 'pitied', 'dried', 'force', 'salt', 'repeats', 'traversed', 'ocean', 'rusting', 'faintly', 'atrocious', 'twigs', 'fantastic', 'bacteria', 'groupings', 'survivors', 'plesiosaurus', 'disclaimer', 'gathered', 'vacant', 'touched', 'struggle', 'crawling', 'read', 'ghosts', 'plaintively', 'fireside', 'stroke', 'irritable', 'copy', 'perished', 'writhing', 'noticing', 'sureness', 'striking', 'halls', 'minerals', 'calmly', 'allow', 'substances', 'additional', 'silently', 'nocturnal', 'cupolas', 'cease', 'disappointing', 'odour', 'prophecy', 'moral', 'winked', 'population', 'fed', 'roots', 'ill', 'stars', 'several', 'glimmer', 'existences', 'suffer', 'grant', 'colossal', 'tumulus', 'fifty', 'wet', 'picked', '_how_', 'rubbing', 'revived', 'shin', 'heaping', 'suicide', 'fashion', 'laughingly', 'anguish', 'substantial', 'continually', 'prepare', 'returning', 'knitting', 'michael', 'wane', 'comfortable', 'overflow', 'returned', 'candle', 'stretching', 'quiet', 'hill', 'bound', 'halitus', 'year', 'stress', 'parting', 'diet', 'woke', 'crowd', 'estimate', 'them', 'sensible', 'features', 'monomania', 'sulphur', 'crumpled', 'projection', 'vestiges', 'wriggling', 'shreds', 'beaten', 'nettles', 'shut', 'matches', 'withdrawn', 'charities', 'lonely', 'triassic', 'his', 'pebble', 'languor', '809', 'ventilation', 'easier', 'diminished', 'beating', 'crippling', 'manliness', 'ran', 'abandon', 'butterfly', 'quickly', '000', 'adjustment', 'land', 'duplicate', 'abysmal', 'along', 'wrote', 'bawling', 'smashed', 'knapsack', 'palæontology', 'overhead', 'breach', 'distinct', 'slowing', 'thrice', 'wanted', 'red', 'himself', 'recall', 'admit', 'damage', 'thousands', 'gratitude', 'include', 'lifeless', 'brought', 'permitted', 'driver', 'glimmering', 'dummies', 'stationary', 'sunlight', 'friday', 'apply', 'flagstones', 'shouted', 'perform', 'instead', 'incessant', 'vases', 'distribution', 'feel', 'temerity', 'succession', 'temporary', 'undecorated', 'china', 'guests', 'virus', 'odd', 'sword', 'mankind', 'apprehend', 'blue', 'bonfire', 'diminishing', 'degree', 'labours', 'startled', 'detach', 'jerking', 'something', 'experimental', 'expect', 'greatly', 'punitive', 'fatigued', 'frightened', 'cheek', 'slam', 'grew', 'inspired', 'power', 'overcome', 'darted', 'inner', 'lesson', 'hither', 'right', 'newsletter', 'overnight', 'die', 'source', 'fees', 'screamed', 'higher', 'scientist', 'mechanical', 'send', 'few', 'indicate', 'blowing', 'royalties', 'engine', 'nights', 'nerves', 'purposes', 'acutely', 'flaring', 'interrogative', 'zoological', 'dawn', 'construct', 'invasion', 'jar', 'thoughts', 'with', 'is', 'south', 'subtle', 'shower', 'southward', 'soiled', 'largest', 'details', 'crying', 'insects', 'what', 'curbed', '2', 'circle', 'weeds', 'antennæ', 'answer', 'models', 'stopped', 'mean', 'account', 'heard', 'performing', 'parapets', 'facility', 'foremost', 'knew', '_four_', 'slowed', 'true', 'incline', 'volunteer', 'shared', 'sensation', 'some', 'remarkably', 'they', 'agonised', 'prevent', 'touch', 'burnt', 'uprush', 'oriental', 'agreement', 'begin', 'against', 'controlled', 'spark', 'denser', 'shy', 'blow', 'education', 'wires', 'depth', 'reach', 'sons', 'breath', 'crematoria', 'disk', 'retards', 'posterity', 'rust', 'cry', 'dismay', 'apprehensions', 'truly', 'shrivelled', 'whoop', 'slain', 'due', 'shall', 'state', 'houses', 'party', 'newcomb', 'attached', 'ninety', 'encircling', 'gutters', 'stony', 'he', 'jamming', 'went', 'command', 'wide', 'conclusions', 'organized', 'neck', 'reef', 'sheltered', 'owl', 'attenuated', 'eroticism', 'silent', 'amateur', 'fiercely', 'thursday', 'reckoned', 'knows', 'wretchedness', 'accepted', 'corrupt', 'scale', 'foolishly', 'dozen', 'dimensioned', 'processing', 'unbroken', 'doubts', 'lighting', 'outline', 'sleeping', 'disgust', 'starting', 'thereupon', 'restore', 'birthright', 'current', 'bow', 'flicker', 'kensington', 'objects', 'voyage', 'nod', 'can', 'plato', 'instability', 'nothing', 'consequently', 'irs', 'chairs', 'early', 'pass', 'plunged', 'devices', 'speedily', 'watchett', 'intolerable', 'raved', 'homer', '_down_', 'statements', 'breadth', 'unseen', 'pronouns', 'agriculture', 'busy', 'tramps', 'only', 'ferns', 'gallery', 'tint', 'recorded', 'motionless', 'took', 'warn', 'mine', 'stanching', 'limp', 'cast', 'concern', 'sleepiness', 'sent', 'there', 'pretty', 'flash', 'disordered', 'told', 'parental', 'opinion', 'creates', 'glad', 'eminent', 'consented', 'unmelted', 'proceeding', 'atmosphere', 'unable', 'depart', 'registered', 'peculiarities', 'dexterous', 'does', 'geology', 'affected', 'taking', 'fame', 'bed', 'working', 'tunnel', 'explained', 'catching', 'desertion', 'step', 'cab', 'states', 'let', 'horse', 'international', 'objections', 'reserve', 'necessities', 'balance', 'metropolitan', 'fighting', 'appliances', 'vegetable', 'unsolicited', 'plan', 'picturesque', 'fullness', 'whence', 'dragging', 'silver', 'infirmity', 'species', 'pair', 'wait', 'materials', 'distributing', 'skylight', 'distribute', 'linnæan', 'ripe', 'bathing', 'decision', 'hunger', 'oppressive', 'offspring', 'element', 'tumult', 'helps', 'building', 'process', 'flowers', 'weakly', 'mount', 'searched', 'richardson', 'comfort', 'suffered', 'amount', 'velocity', 'marble', 'movement', 'visibly', 'enter', 'temperate', 'in', 'skeleton', 'throb', 'proportionately', 'constant', 'active', 'escape', 'choose', 'wretched', 'childish', 'barometer', 'readjust', 'exposed', 'background', 'knowledge', 'come', 'communicate', 'her', 'possible', 'hallo', 'falling', 'headlines', 'we', 'opposite', 'oddly', 'flattened', 'evergreens', '1', 'spectacle', 'breathed', 'dinner', 'feeble', 'occurrence', 'found', 'moving', 'mechanism', 'tampering', 'file', 'showering', 'free', 'don', 'spinning', 'incredibly', 'sympathy', 'savages', 'reminiscence', 'elements', 'meditations', 'impatient', 'massacre', 'horror', 'shaded', 'angry', 'wandsworth', 'ensuring', 'asks', 'speech', 'rats', 'seeming', 'simplest', 'high', 'reasonable', 'ancestry', 'every', 'work', 'sends', 'erected', 'star', 'myself', 'exclusion', 'dare', 'hardest', 'conveyed', 'grecian', 'shoulder', 'wish', 'battle', 'manhood', 'task', 'determination', 'thing', 'frugivorous', 'rendering', 'fish', 'actual', 'decaying', 'cradle', 'began', 'capitalist', 'incrustation', 'modes', 'snow', 'ant', 'survive', 'already', 'thick', 'grasping', '_cancan_', 'dense', 'rolled', 'then', 'unfrozen', 'real', 'reacquainted', 'realisation', 'solstice', 'recondite', 'accumulate', 'repeated', 'grimly', 'care', 'address', 'appreciate', 'moonlight', 'xiv', 'fallen', 'displaying', 'seem', 'workrooms', 'examination', 'composed', 'cannot', 'mass', 'food', 'rose', 'acquaintance', 'devoted', 'careful', 'slowly', 'fair', 'tendency', 'taken', 'streak', '_you_', 'thinking', 'hissing', 'beach', 'fell', 'planet', 'intricate', 'giddy', 'intellectual', 'carpeting', 'gust', 'freshness', 'medicine', 'uniform', 'patient', 'unscrewed', 'incapable', 'group', 'impartiality', 'melodious', 'less', 'overflowing', 'eastward', 'lend', 'threadbare', 'everything', 'vertically', 'suggestive', 'stone', 'miles', 'method', 'northward', 'nightmare', 'excitement', 'record', 'stab', 'yourselves', 'came', 'wretch', 'distressing', 'sober', 'intensely', 'spikes', 'ceased', 'flapping', 'attacked', 'tethered', 'hilariously', 'big', 'leaping', 'pillowed', 'fatigues', 'walk', 'fiftieth', 'shoal', 'flowing', 'equal', 'damp', 'remote', 'postal', 'must', 'labour', 'riddles', 'decorations', 'eccentric', 'crouching', 'grow', 'argue', 'upon', 'dainty', 'you', 'saurians', 'tenderness', '90', 'mauve', 'learn', 'pit', 'faltering', 'suspended', 'delivery', 'alarming', 'breeding', 'multitudes', 'weena', 'conditions', 'monster', 'outlet', 'feared', 'completely', 'imperfect', 'banishing', 'ink', 'attended', 'access', 'projected', 'incredibleness', 'smothered', 'gay', 'white', 'feels', 'numbers', 'explorations', 'descent', 'imagination', 'garden', 'million', 'grooves', 'reflected', 'mystic', 'spot', 'problems', 'calamity', 'taxes', 'livid', 'dewdrops', 'merest', 'deadlier', 'vegetation', 'kodak', 'treatment', 'clues', 'gathering', 'sick', 'whirling', 'note', '7', 'slit', 'staff', 'descending', 'discords', 'looked', 'rate', 'been', 'ape', 'twisted', 'help', 'sweet', 'overlooked', 'deception', 'inheritance', 'visage', 'head', 'vivid', 'relationship', 'hoped', 'nine', 'impossible', 'books', 'easy', 'blackened', 'loose', 'leaving', 'paying', 'delay', 'chinless', 'climbed', 'class', 'moonrise', 'lurking', 'common', 'addition', 'bathe', 'combe', 'tropical', 'flashed', 'grieved', 'glowing', 'readable', 'thickets', 'boot', 'tranquil', 'terror', 'doctor', 'tentacles', 'iron', 'richly', 'hairless', 'present', 'tangled', 'insensibly', 'pen', 'know', 'fourth', 'toy', 'trap', 'dazzled', 'rhododendron', 'terrible', 'efficient', 'masters', 'anachronisms', 'stopping', 'believe', 'ultimately', 'flow', 'floral', 'uncivil', 'alarmed', 'bell', 'collecting', 'emergence', 'miraculous', 'habit', 'indolent', 'silky', 'pulled', 'adaptations', 'destinies', 'precocious', 'languages', 'presentation', 'play', 'discover', 'house', 'transactions_', 'radiance', 'notice', 'exclusive', 'stooping', 'nearest', 'results', 'invent', 'drank', 'epilogue', 'home', 'knelt', 'strangest', 'business', 'but', 'reserved', 'faster', 'companion', 'stretched', 'saved', 'flirtation', 'sinister', 'hospitality', 'dimly', 'company', 'hugely', 'harvest', 'redistribute', 'outside', 'pleasure', 'risk', 'delicate', 'expected', 'viii', 'variegated', 'https', 'parents', 'correctly', 'powers', 'example', 'thunderstorm', 'place', 'blackening', 'grasped', 'labyrinth', 'machines', 'freshly', 'especially', 'discoveries', 'shafts', 'attempts', 'tempered', 'curly', 'limbs', 'triumphs', 'flitted', 'bitter', 'passion', 'exposition', 'projecting', 'proper', 'exhibited', 'ruddy', 'general', 'bone', 'spill', 'done', 'heavy', 'gives', 'zenith', 'clothing', 'restlessness', 'cabs', 'outlines', 'assailed', 'sucked', 'swept', 'loophole', 'weapon', 'exchange', 'played', 'later', 'defeated', 'she', 'swamp', 'fruit', 'appreciation', 'pump', 'finding', 'ebook', 'cheerless', 'vigil', 'tm', 'absolutely', 'garlanded', 'industrial', 'rising', 'doubted', 'economic', 'heels', 'collapsed', 'service'}\n"
     ]
    }
   ],
   "source": [
    "print(main_set)"
   ]
  },
  {
   "cell_type": "code",
   "execution_count": 134,
   "id": "358e9181",
   "metadata": {},
   "outputs": [],
   "source": [
    "# from nltk.stem import WordNetLemmatizer\n",
    "# lemma = WordNetLemmatizer()\n",
    "\n",
    "# def lemmword(word):\n",
    "#     return lemma.lemmatize(word)"
   ]
  },
  {
   "cell_type": "code",
   "execution_count": 135,
   "id": "24892caf",
   "metadata": {},
   "outputs": [],
   "source": [
    "# arg1 = input(\"enter: \")\n",
    "# print(lemmword(arg1))\n",
    "# k = lemmword(arg1)\n",
    "# type(k)"
   ]
  },
  {
   "cell_type": "code",
   "execution_count": 136,
   "id": "ce71c5aa",
   "metadata": {},
   "outputs": [],
   "source": [
    "def counting_words(words):\n",
    "    wordcount = {}\n",
    "    for word in words:\n",
    "#         word = lemmword(word)\n",
    "        if word in wordcount:\n",
    "            wordcount[word] += 1\n",
    "        else:\n",
    "            wordcount[word] = 1;\n",
    "            \n",
    "    return wordcount"
   ]
  },
  {
   "cell_type": "code",
   "execution_count": 137,
   "id": "bbf9834e",
   "metadata": {},
   "outputs": [],
   "source": [
    "def cal_prob(wordcount):\n",
    "    probs = {}\n",
    "    m = sum(wordcount.values())\n",
    "    for key in wordcount.keys():\n",
    "        probs[key] = wordcount[key]/m\n",
    "    return probs"
   ]
  },
  {
   "cell_type": "code",
   "execution_count": 138,
   "id": "8aa6bacf",
   "metadata": {},
   "outputs": [],
   "source": [
    "#delete\n",
    "def deleteletter(word):\n",
    "    deletelist = []\n",
    "    splitlist = []\n",
    "    \n",
    "    for i in range(len(word)):\n",
    "        splitlist.append((word[0:i], word[i:]))\n",
    "        \n",
    "    for a, b in splitlist:\n",
    "        deletelist.append(a + b[1:])\n",
    "    return deletelist"
   ]
  },
  {
   "cell_type": "code",
   "execution_count": 139,
   "id": "2cc53ab0",
   "metadata": {},
   "outputs": [],
   "source": [
    "#swap 2 letters of the word\n",
    "def switchletter(word):\n",
    "    splitlist = []\n",
    "    switchlist = []\n",
    "    \n",
    "    for i in range(len(word)):\n",
    "        splitlist.append((word[0:i], word[i:]))\n",
    "        \n",
    "    swithlist = [a + b[1] + b[0] + b[2:] for a, b in splitlist if len(b) >= 2]\n",
    "    return switchlist"
   ]
  },
  {
   "cell_type": "code",
   "execution_count": 140,
   "id": "70224f9a",
   "metadata": {},
   "outputs": [],
   "source": [
    "#replace- change one letter to another\n",
    "def replaceletter(word):\n",
    "    splitlist = []\n",
    "    replacelist = []\n",
    "    \n",
    "    for i in range(len(word)):\n",
    "        splitlist.append((word[0:i], word[i:]))\n",
    "    alphs = 'abcdefghijklmnopqrstuvwxyz'\n",
    "    replacelist = [a + l + (b[1:] if len(b) > 1 else '') for a, b in splitlist if b for l in alphs]\n",
    "    return replacelist"
   ]
  },
  {
   "cell_type": "code",
   "execution_count": 141,
   "id": "30d9abb5",
   "metadata": {},
   "outputs": [],
   "source": [
    "#insert- add additional chars\n",
    "def insertletter(word):\n",
    "    splitlist = []\n",
    "    insertlist = []\n",
    "    \n",
    "    for i in range(len(word)):\n",
    "        splitlist.append((word[0:i], word[i:]))\n",
    "        \n",
    "    alphs = 'abcdefghijklmnopqrstuvwxyz'\n",
    "    insertlist = [a + l + b for a, b in splitlist for l in alphs]\n",
    "    return insertlist"
   ]
  },
  {
   "cell_type": "code",
   "execution_count": 142,
   "id": "7d92acfa",
   "metadata": {},
   "outputs": [],
   "source": [
    "def colab1(word, allow_switches=True):\n",
    "    colab1 = set()\n",
    "    colab1.update(deleteletter(word))\n",
    "    if allow_switches:\n",
    "        colab1.update(switchletter(word))\n",
    "    colab1.update(replaceletter(word))\n",
    "    colab1.update(insertletter(word))\n",
    "    return colab1\n"
   ]
  },
  {
   "cell_type": "code",
   "execution_count": 143,
   "id": "9ad50375",
   "metadata": {},
   "outputs": [],
   "source": [
    "def colab2(word, allow_switches=True):\n",
    "    colab2 = set()\n",
    "    edit_one = colab1(word, allow_switches=allow_switches)\n",
    "    for w in edit_one:\n",
    "        if w:\n",
    "            edit_two = colab1(w, allow_switches=allow_switches)\n",
    "            colab2.update(edit_two)\n",
    "    return colab2"
   ]
  },
  {
   "cell_type": "code",
   "execution_count": 144,
   "id": "aa50cf48",
   "metadata": {},
   "outputs": [],
   "source": [
    "def getcorrect(word, probs, vocab, n = 2):\n",
    "    suggestedword = []\n",
    "    bestsuggestion = []\n",
    "    suggestedword = list(\n",
    "        (word in vocab and word)\n",
    "        or colab1(word).intersection(vocab)\n",
    "        or colab2(word).intersection(vocab)\n",
    "    )\n",
    "    bestsuggestion = [[s, probs[s]] for s in list(reversed(suggestedword))]\n",
    "    return bestsuggestion"
   ]
  },
  {
   "cell_type": "code",
   "execution_count": 153,
   "id": "37317858",
   "metadata": {},
   "outputs": [],
   "source": [
    "wordcount = counting_words(main_set)\n",
    "probs = cal_prob(wordcount)"
   ]
  },
  {
   "cell_type": "code",
   "execution_count": 157,
   "id": "f8fd99dd",
   "metadata": {},
   "outputs": [
    {
     "name": "stdout",
     "output_type": "stream",
     "text": [
      "enter: qjeen\n",
      "green\n",
      "keen\n",
      "queer\n"
     ]
    }
   ],
   "source": [
    "myword = input(\"enter: \")\n",
    "tempcorrections = getcorrect(myword, probs, main_set, 2)\n",
    "\n",
    "for i, wordprob in enumerate(tempcorrections):\n",
    "    if(i < 3):\n",
    "        print(wordprob[0])\n",
    "    else:\n",
    "        break;"
   ]
  },
  {
   "cell_type": "code",
   "execution_count": 177,
   "id": "08fa6826",
   "metadata": {},
   "outputs": [],
   "source": [
    "def sol(myword):\n",
    "    result = []\n",
    "    tempcorrections = getcorrect(myword, probs, main_set, 2)\n",
    "\n",
    "    for i, wordprob in enumerate(tempcorrections):\n",
    "        if(i < 3):\n",
    "            result.append(wordprob[0])\n",
    "#             print(wordprob[0])\n",
    "        else:\n",
    "            break;\n",
    "    return result"
   ]
  },
  {
   "cell_type": "code",
   "execution_count": 178,
   "id": "8fa1d0c9",
   "metadata": {},
   "outputs": [],
   "source": [
    "import gradio as gr\n",
    "# appinputs = gr.inputs.Textbox(lines=2, placeholder='enter sentence....')"
   ]
  },
  {
   "cell_type": "code",
   "execution_count": 179,
   "id": "50d68068",
   "metadata": {},
   "outputs": [],
   "source": [
    "ifc = gr.Interface(fn=sol, inputs='text', outputs='text', title='Autocorrector')"
   ]
  },
  {
   "cell_type": "code",
   "execution_count": 180,
   "id": "2263f6a5",
   "metadata": {},
   "outputs": [
    {
     "name": "stdout",
     "output_type": "stream",
     "text": [
      "Running on local URL:  http://127.0.0.1:7862\n",
      "\n",
      "To create a public link, set `share=True` in `launch()`.\n"
     ]
    },
    {
     "data": {
      "text/html": [
       "<div><iframe src=\"http://127.0.0.1:7862/\" width=\"100%\" height=\"500\" allow=\"autoplay; camera; microphone; clipboard-read; clipboard-write;\" frameborder=\"0\" allowfullscreen></iframe></div>"
      ],
      "text/plain": [
       "<IPython.core.display.HTML object>"
      ]
     },
     "metadata": {},
     "output_type": "display_data"
    },
    {
     "data": {
      "text/plain": []
     },
     "execution_count": 180,
     "metadata": {},
     "output_type": "execute_result"
    }
   ],
   "source": [
    "ifc.launch()"
   ]
  },
  {
   "cell_type": "code",
   "execution_count": null,
   "id": "5308d7cd",
   "metadata": {},
   "outputs": [],
   "source": []
  }
 ],
 "metadata": {
  "kernelspec": {
   "display_name": "Python 3",
   "language": "python",
   "name": "python3"
  },
  "language_info": {
   "codemirror_mode": {
    "name": "ipython",
    "version": 3
   },
   "file_extension": ".py",
   "mimetype": "text/x-python",
   "name": "python",
   "nbconvert_exporter": "python",
   "pygments_lexer": "ipython3",
   "version": "3.11.2"
  }
 },
 "nbformat": 4,
 "nbformat_minor": 5
}
