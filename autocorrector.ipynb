{
 "cells": [
  {
   "cell_type": "code",
   "execution_count": 181,
   "id": "dc890e31",
   "metadata": {},
   "outputs": [],
   "source": [
    "import nltk\n",
    "import re\n",
    "import textdistance\n",
    "from collections import Counter\n",
    "import pandas as pd"
   ]
  },
  {
   "cell_type": "code",
   "execution_count": 182,
   "id": "b685fb2d",
   "metadata": {},
   "outputs": [],
   "source": [
    "w = []\n",
    "with open('cwords.txt', 'r', encoding='utf8') as f:\n",
    "    file_name_data = f.read()\n",
    "    file_name_data = file_name_data.lower()\n",
    "    w = re.findall('\\w+', file_name_data)\n",
    "\n",
    "main_set = set(w)"
   ]
  },
  {
   "cell_type": "code",
   "execution_count": 183,
   "id": "367d6d7c",
   "metadata": {},
   "outputs": [
    {
     "name": "stdout",
     "output_type": "stream",
     "text": [
      "4974\n"
     ]
    }
   ],
   "source": [
    "print(len(main_set))"
   ]
  },
  {
   "cell_type": "code",
   "execution_count": 184,
   "id": "358e9181",
   "metadata": {},
   "outputs": [],
   "source": [
    "from nltk.stem import WordNetLemmatizer\n",
    "lemma = WordNetLemmatizer()\n",
    "\n",
    "def lemmword(word):\n",
    "    return lemma.lemmatize(word)"
   ]
  },
  {
   "cell_type": "code",
   "execution_count": 185,
   "id": "24892caf",
   "metadata": {},
   "outputs": [],
   "source": [
    "# arg2 = 'kings'\n",
    "# temp2 = lemmword(arg2)\n",
    "# print(temp2)\n",
    "# print(type(temp2))"
   ]
  },
  {
   "cell_type": "code",
   "execution_count": 186,
   "id": "ce71c5aa",
   "metadata": {},
   "outputs": [],
   "source": [
    "def counting_words(words):\n",
    "    wordcount = {}\n",
    "    wordcount = Counter(words)\n",
    "    for word in words:\n",
    "        temp = lemmword(word)\n",
    "        main_set.add(temp)\n",
    "        if temp in wordcount:\n",
    "            wordcount[temp] += 1\n",
    "        else:\n",
    "            wordcount[temp] = 1;\n",
    "            \n",
    "    return wordcount"
   ]
  },
  {
   "cell_type": "code",
   "execution_count": 187,
   "id": "bbf9834e",
   "metadata": {},
   "outputs": [],
   "source": [
    "def cal_prob(wordcount):\n",
    "    probs = {}\n",
    "    m = sum(wordcount.values())\n",
    "    for key in wordcount.keys():\n",
    "        probs[key] = wordcount[key]/m\n",
    "    return probs"
   ]
  },
  {
   "cell_type": "code",
   "execution_count": 188,
   "id": "8aa6bacf",
   "metadata": {},
   "outputs": [],
   "source": [
    "#delete\n",
    "def deleteletter(word):\n",
    "    deletelist = []\n",
    "    splitlist = []\n",
    "    \n",
    "    for i in range(len(word)):\n",
    "        splitlist.append((word[0:i], word[i:]))\n",
    "        \n",
    "    for a, b in splitlist:\n",
    "        deletelist.append(a + b[1:])\n",
    "    return deletelist"
   ]
  },
  {
   "cell_type": "code",
   "execution_count": 189,
   "id": "2cc53ab0",
   "metadata": {},
   "outputs": [],
   "source": [
    "#swap 2 letters of the word\n",
    "def switchletter(word):\n",
    "    splitlist = []\n",
    "    switchlist = []\n",
    "    \n",
    "    for i in range(len(word)):\n",
    "        splitlist.append((word[0:i], word[i:]))\n",
    "        \n",
    "    swithlist = [a + b[1] + b[0] + b[2:] for a, b in splitlist if len(b) >= 2]\n",
    "    return switchlist"
   ]
  },
  {
   "cell_type": "code",
   "execution_count": 190,
   "id": "70224f9a",
   "metadata": {},
   "outputs": [],
   "source": [
    "#replace- change one letter to another\n",
    "def replaceletter(word):\n",
    "    splitlist = []\n",
    "    replacelist = []\n",
    "    \n",
    "    for i in range(len(word)):\n",
    "        splitlist.append((word[0:i], word[i:]))\n",
    "    alphs = 'abcdefghijklmnopqrstuvwxyz'\n",
    "    replacelist = [a + l + (b[1:] if len(b) > 1 else '') for a, b in splitlist if b for l in alphs]\n",
    "    return replacelist"
   ]
  },
  {
   "cell_type": "code",
   "execution_count": 191,
   "id": "30d9abb5",
   "metadata": {},
   "outputs": [],
   "source": [
    "#insert- add additional chars\n",
    "def insertletter(word):\n",
    "    splitlist = []\n",
    "    insertlist = []\n",
    "    \n",
    "    for i in range(len(word)):\n",
    "        splitlist.append((word[0:i], word[i:]))\n",
    "        \n",
    "    alphs = 'abcdefghijklmnopqrstuvwxyz'\n",
    "    insertlist = [a + l + b for a, b in splitlist for l in alphs]\n",
    "    return insertlist"
   ]
  },
  {
   "cell_type": "code",
   "execution_count": 192,
   "id": "7d92acfa",
   "metadata": {},
   "outputs": [],
   "source": [
    "def colab1(word, allow_switches=True):\n",
    "    colab1 = set()\n",
    "    colab1.update(deleteletter(word))\n",
    "    if allow_switches:\n",
    "        colab1.update(switchletter(word))\n",
    "    colab1.update(replaceletter(word))\n",
    "    colab1.update(insertletter(word))\n",
    "    return colab1\n"
   ]
  },
  {
   "cell_type": "code",
   "execution_count": 193,
   "id": "9ad50375",
   "metadata": {},
   "outputs": [],
   "source": [
    "def colab2(word, allow_switches=True):\n",
    "    colab2 = set()\n",
    "    edit_one = colab1(word, allow_switches=allow_switches)\n",
    "    for w in edit_one:\n",
    "        if w:\n",
    "            edit_two = colab1(w, allow_switches=allow_switches)\n",
    "            colab2.update(edit_two)\n",
    "    return colab2"
   ]
  },
  {
   "cell_type": "code",
   "execution_count": 194,
   "id": "aa50cf48",
   "metadata": {},
   "outputs": [],
   "source": [
    "def getcorrect(word, probs, vocab, n = 2):\n",
    "    suggestedword = []\n",
    "    bestsuggestion = []\n",
    "    suggestedword = list(\n",
    "        (word in vocab and word)\n",
    "        or colab1(word).intersection(vocab)\n",
    "        or colab2(word).intersection(vocab)\n",
    "    )\n",
    "    bestsuggestion = [[s, probs[s]] for s in list(reversed(suggestedword))]\n",
    "    return bestsuggestion"
   ]
  },
  {
   "cell_type": "code",
   "execution_count": 195,
   "id": "37317858",
   "metadata": {},
   "outputs": [
    {
     "name": "stdout",
     "output_type": "stream",
     "text": [
      "[('the', 4924), ('and', 2620), ('of', 2560), ('i', 2534), ('a', 2035), ('to', 1530), ('in', 1208), ('it', 968), ('that', 914), ('my', 882)]\n"
     ]
    }
   ],
   "source": [
    "wordcount = counting_words(w)\n",
    "probs = cal_prob(wordcount)\n",
    "print(wordcount.most_common()[0:10])"
   ]
  },
  {
   "cell_type": "code",
   "execution_count": 196,
   "id": "f8fd99dd",
   "metadata": {},
   "outputs": [
    {
     "name": "stdout",
     "output_type": "stream",
     "text": [
      "enter: mokey\n",
      "money\n",
      "monkey\n"
     ]
    }
   ],
   "source": [
    "myword = input(\"enter: \")\n",
    "tempcorrections = getcorrect(myword, probs, main_set, 2)\n",
    "\n",
    "for i, wordprob in enumerate(tempcorrections):\n",
    "    if(i < 3):\n",
    "        print(wordprob[0])\n",
    "    else:\n",
    "        break;"
   ]
  },
  {
   "cell_type": "code",
   "execution_count": 234,
   "id": "08fa6826",
   "metadata": {},
   "outputs": [],
   "source": [
    "def sol(myword):\n",
    "    \n",
    "    if wordcount[myword] > 0:\n",
    "        return 'Your words is correct :)\\n'\n",
    "    \n",
    "    result = []\n",
    "    tempcorrections = getcorrect(myword, probs, main_set, 2)\n",
    "\n",
    "    for i, wordprob in enumerate(tempcorrections):\n",
    "        if(i < 3):\n",
    "            result.append(wordprob[0])\n",
    "#             print(wordprob[0])\n",
    "        else:\n",
    "            break;\n",
    "#     print(result)\n",
    "        \n",
    "    sim = [1-(textdistance.Jaccard(qval=2).distance(v,myword)) for v in wordcount.keys()]\n",
    "    df = pd.DataFrame.from_dict(probs, orient='index').reset_index()\n",
    "    df = df.rename(columns={'index':'Word', 0:'Prob'})\n",
    "    df['Similarity'] = sim\n",
    "    output = df.sort_values(['Similarity', 'Prob'], ascending=False)['Word'].head()\n",
    "    \n",
    "    for x in output:\n",
    "        if x not in result:\n",
    "            result.append(x)\n",
    "#     result = set(result)\n",
    "    return result"
   ]
  },
  {
   "cell_type": "code",
   "execution_count": 240,
   "id": "1dff4c94",
   "metadata": {},
   "outputs": [
    {
     "name": "stdout",
     "output_type": "stream",
     "text": [
      "Enter word: mokey\n",
      "['money', 'monkey', 'smoke', 'smoked', 'key', 'woke']\n"
     ]
    }
   ],
   "source": [
    "test = input('Enter word: ')\n",
    "print(sol(test))"
   ]
  },
  {
   "cell_type": "code",
   "execution_count": 236,
   "id": "8fa1d0c9",
   "metadata": {},
   "outputs": [],
   "source": [
    "import gradio as gr\n",
    "# appinputs = gr.inputs.Textbox(lines=2, placeholder='enter sentence....')"
   ]
  },
  {
   "cell_type": "code",
   "execution_count": 237,
   "id": "50d68068",
   "metadata": {},
   "outputs": [],
   "source": [
    "ifc = gr.Interface(fn=sol, inputs='text', outputs='text', title='Autocorrector')"
   ]
  },
  {
   "cell_type": "code",
   "execution_count": 238,
   "id": "2263f6a5",
   "metadata": {
    "scrolled": true
   },
   "outputs": [
    {
     "name": "stdout",
     "output_type": "stream",
     "text": [
      "Running on local URL:  http://127.0.0.1:7873\n",
      "\n",
      "To create a public link, set `share=True` in `launch()`.\n"
     ]
    },
    {
     "data": {
      "text/html": [
       "<div><iframe src=\"http://127.0.0.1:7873/\" width=\"100%\" height=\"500\" allow=\"autoplay; camera; microphone; clipboard-read; clipboard-write;\" frameborder=\"0\" allowfullscreen></iframe></div>"
      ],
      "text/plain": [
       "<IPython.core.display.HTML object>"
      ]
     },
     "metadata": {},
     "output_type": "display_data"
    },
    {
     "data": {
      "text/plain": []
     },
     "execution_count": 238,
     "metadata": {},
     "output_type": "execute_result"
    }
   ],
   "source": [
    "ifc.launch()"
   ]
  },
  {
   "cell_type": "code",
   "execution_count": null,
   "id": "5308d7cd",
   "metadata": {},
   "outputs": [],
   "source": []
  }
 ],
 "metadata": {
  "kernelspec": {
   "display_name": "Python 3",
   "language": "python",
   "name": "python3"
  },
  "language_info": {
   "codemirror_mode": {
    "name": "ipython",
    "version": 3
   },
   "file_extension": ".py",
   "mimetype": "text/x-python",
   "name": "python",
   "nbconvert_exporter": "python",
   "pygments_lexer": "ipython3",
   "version": "3.11.2"
  }
 },
 "nbformat": 4,
 "nbformat_minor": 5
}
